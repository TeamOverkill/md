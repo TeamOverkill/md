{
 "cells": [
  {
   "cell_type": "code",
   "execution_count": 125,
   "metadata": {},
   "outputs": [],
   "source": [
    "import numpy as np\n",
    "import matplotlib.pyplot as plt"
   ]
  },
  {
   "cell_type": "code",
   "execution_count": 126,
   "metadata": {},
   "outputs": [],
   "source": [
    "forward = np.loadtxt('track_forw.txt', unpack=True)\n",
    "backward = np.loadtxt('track_back.txt', unpack=True)"
   ]
  },
  {
   "cell_type": "code",
   "execution_count": 132,
   "metadata": {},
   "outputs": [
    {
     "data": {
      "text/plain": [
       "[<matplotlib.lines.Line2D at 0x115630290>]"
      ]
     },
     "execution_count": 132,
     "metadata": {},
     "output_type": "execute_result"
    },
    {
     "data": {
      "image/png": "[encoded data removed]",
      "text/plain": [
       "<matplotlib.figure.Figure at 0x115630310>"
      ]
     },
     "metadata": {},
     "output_type": "display_data"
    }
   ],
   "source": [
    "fx = forward[1][1:] - forward[1][:-1]\n",
    "fy = forward[2][1:] - forward[2][:-1]\n",
    "gx = backward[1][1:] - backward[1][:-1]\n",
    "gy = backward[2][1:] - backward[2][:-1]\n",
    "\n",
    "#plt.quiver(forward[1][:-1], forward[2][:-1], fx, fy, scale_units='xy', angles='xy', scale=1, color=\"blue\", \\\n",
    "#          headwidth = 5.0, headlength = 5.0)\n",
    "#plt.quiver(backward[1][:-1], backward[2][:-1], gx, gy, scale_units='xy', angles='xy', scale=1, color=\"green\")\n",
    "plt.plot(forward[1], forward[2])\n",
    "plt.plot(backward[1], backward[2])\n",
    "#plt.arrow(1, 1, 1, 1)"
   ]
  },
  {
   "cell_type": "code",
   "execution_count": null,
   "metadata": {},
   "outputs": [],
   "source": []
  }
 ],
 "metadata": {
  "kernelspec": {
   "display_name": "Python 2",
   "language": "python",
   "name": "python2"
  },
  "language_info": {
   "codemirror_mode": {
    "name": "ipython",
    "version": 2
   },
   "file_extension": ".py",
   "mimetype": "text/x-python",
   "name": "python",
   "nbconvert_exporter": "python",
   "pygments_lexer": "ipython2",
   "version": "2.7.14"
  }
 },
 "nbformat": 4,
 "nbformat_minor": 2
}
